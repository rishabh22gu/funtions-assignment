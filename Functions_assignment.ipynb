{
  "nbformat": 4,
  "nbformat_minor": 0,
  "metadata": {
    "colab": {
      "provenance": []
    },
    "kernelspec": {
      "name": "python3",
      "display_name": "Python 3"
    },
    "language_info": {
      "name": "python"
    }
  },
  "cells": [
    {
      "cell_type": "markdown",
      "source": [
        "#What is the difference between a function and a method in Python?\n",
        "\n",
        "ANS- Function: A block of code that performs a specific task and can be called independently of any object. Defined using the def keyword.\n",
        "\n",
        "Method: A function that is associated with an object and operates on that object. Defined inside a class and can be called only on an instance of that class."
      ],
      "metadata": {
        "id": "6RgufBdFIOi4"
      }
    },
    {
      "cell_type": "code",
      "source": [
        "def greet(name):\n",
        "    return f\"Hello, {name}!\"\n",
        "greet(\"Rishabh\")  # Function call\n",
        "\n"
      ],
      "metadata": {
        "colab": {
          "base_uri": "https://localhost:8080/",
          "height": 36
        },
        "id": "_viHk4AQJQxl",
        "outputId": "fada2ac4-b759-4884-831d-2fe785285b38"
      },
      "execution_count": 2,
      "outputs": [
        {
          "output_type": "execute_result",
          "data": {
            "text/plain": [
              "'Hello, Rishabh!'"
            ],
            "application/vnd.google.colaboratory.intrinsic+json": {
              "type": "string"
            }
          },
          "metadata": {},
          "execution_count": 2
        }
      ]
    },
    {
      "cell_type": "code",
      "source": [
        "class Greeter:\n",
        "    def greet(self, name):\n",
        "        return f\"Hello, {name}!\"\n",
        "g = Greeter()\n",
        "g.greet(\"Rishabh\")  # Method call\n"
      ],
      "metadata": {
        "colab": {
          "base_uri": "https://localhost:8080/",
          "height": 36
        },
        "id": "9dKzmrxMJjRx",
        "outputId": "a325c699-fbad-4c57-8f48-91b4cc055b16"
      },
      "execution_count": 3,
      "outputs": [
        {
          "output_type": "execute_result",
          "data": {
            "text/plain": [
              "'Hello, Rishabh!'"
            ],
            "application/vnd.google.colaboratory.intrinsic+json": {
              "type": "string"
            }
          },
          "metadata": {},
          "execution_count": 3
        }
      ]
    },
    {
      "cell_type": "markdown",
      "source": [
        "Explain the concept of function arguments and parameters in Python.\n",
        "\n",
        "Parameters: Variables listed in the function definition.\n",
        "Example: def add(a, b): — a and b are parameters.\n",
        "Arguments: Values passed to the function when it is called.\n",
        "Example: add(5, 3) — 5 and 3 are arguments."
      ],
      "metadata": {
        "id": "7iwhfOopJEqP"
      }
    },
    {
      "cell_type": "markdown",
      "source": [
        "What are the different ways to define and call a function in Python?\n",
        "\n",
        "Regular Function"
      ],
      "metadata": {
        "id": "Gn-Ov5EYJxBW"
      }
    },
    {
      "cell_type": "code",
      "source": [
        "def greet(name):\n",
        "    return f\"Hello, {name}!\"\n"
      ],
      "metadata": {
        "id": "L5er6HlQKLhe"
      },
      "execution_count": 4,
      "outputs": []
    },
    {
      "cell_type": "markdown",
      "source": [
        "Lambda Function (Anonymous function):\n",
        "\n"
      ],
      "metadata": {
        "id": "OOHxl_yIKOqt"
      }
    },
    {
      "cell_type": "code",
      "source": [
        "greet = lambda name: f\"Hello, {name}!\"\n"
      ],
      "metadata": {
        "id": "0aFW_pdXKWQm"
      },
      "execution_count": 5,
      "outputs": []
    },
    {
      "cell_type": "markdown",
      "source": [
        "Calling Functions:\n",
        "Positional Arguments"
      ],
      "metadata": {
        "id": "Ox1_D8dGKaSb"
      }
    },
    {
      "cell_type": "code",
      "source": [
        "greet(\"Rishabh\")\n"
      ],
      "metadata": {
        "colab": {
          "base_uri": "https://localhost:8080/",
          "height": 36
        },
        "id": "zjM2a3vfKi8m",
        "outputId": "9f16aec6-ee9f-4123-ec29-41f01bb50f5d"
      },
      "execution_count": 6,
      "outputs": [
        {
          "output_type": "execute_result",
          "data": {
            "text/plain": [
              "'Hello, Rishabh!'"
            ],
            "application/vnd.google.colaboratory.intrinsic+json": {
              "type": "string"
            }
          },
          "metadata": {},
          "execution_count": 6
        }
      ]
    },
    {
      "cell_type": "markdown",
      "source": [
        "Keyword Arguments:"
      ],
      "metadata": {
        "id": "rwgF3IhaKoN6"
      }
    },
    {
      "cell_type": "code",
      "source": [
        "def greet(name, greeting=\"Hello\"):\n",
        "    return f\"{greeting}, {name}!\"\n",
        "greet(name=\"Rishabh\", greeting=\"Hi\")\n"
      ],
      "metadata": {
        "colab": {
          "base_uri": "https://localhost:8080/",
          "height": 36
        },
        "id": "QFuTeTPZKtnp",
        "outputId": "821b6c96-17af-4da7-fc5a-5ad3c22f00ba"
      },
      "execution_count": 7,
      "outputs": [
        {
          "output_type": "execute_result",
          "data": {
            "text/plain": [
              "'Hi, Rishabh!'"
            ],
            "application/vnd.google.colaboratory.intrinsic+json": {
              "type": "string"
            }
          },
          "metadata": {},
          "execution_count": 7
        }
      ]
    },
    {
      "cell_type": "markdown",
      "source": [
        "What is the purpose of the return statement in a Python function?\n",
        "\n",
        "ANS-The return statement:\n",
        "\n",
        "Exits the function and optionally passes a value back to the caller.\n",
        "Allows functions to produce a result or output."
      ],
      "metadata": {
        "id": "uOh4nKHTK2-t"
      }
    },
    {
      "cell_type": "code",
      "source": [
        "def square(num):\n",
        "    return num * num\n",
        "result = square(4)  # result is 16\n"
      ],
      "metadata": {
        "id": "gwKNShYTK_cQ"
      },
      "execution_count": 9,
      "outputs": []
    },
    {
      "cell_type": "markdown",
      "source": [
        "What are iterators in Python and how do they differ from iterables?\n",
        "\n",
        "ANS- Iterable: An object that can be iterated over (e.g., lists, strings, tuples). It implements the __iter__() method.\n",
        "Example: my_list = [1, 2, 3]\n",
        "Iterator: An object that produces items one at a time. It implements the __iter__() and __next__() methods."
      ],
      "metadata": {
        "id": "9uJBvG2qLDYR"
      }
    },
    {
      "cell_type": "markdown",
      "source": [
        "Explain the concept of generators in Python and how they are defined.\n",
        "\n",
        "ANS-  A generator is a special type of iterator defined using a function that uses yield instead of return."
      ],
      "metadata": {
        "id": "bvxQZGizLZ4V"
      }
    },
    {
      "cell_type": "code",
      "source": [
        "def count_up_to(n):\n",
        "    count = 1\n",
        "    while count <= n:\n",
        "        yield count\n",
        "        count += 1\n"
      ],
      "metadata": {
        "id": "nRzpAxUxLojJ"
      },
      "execution_count": 10,
      "outputs": []
    },
    {
      "cell_type": "markdown",
      "source": [
        "What are the advantages of using generators over regular functions\n",
        "\n",
        "Memory Efficiency: Generators produce items lazily, using less memory.\n",
        "Infinite Sequences: Can handle infinite data streams.\n",
        "Simplified Code: Easier to write than managing manual iteration."
      ],
      "metadata": {
        "id": "sM3hFfXiLsug"
      }
    },
    {
      "cell_type": "markdown",
      "source": [
        " What is a lambda function in Python and when is it typically used\n",
        "\n",
        " ANS- Anonymous, single-expression functions.\n",
        "\n",
        " Typical Use: Small functions for short-term use, especially with functions like map() or filter()."
      ],
      "metadata": {
        "id": "Ny-6gBkbL2_8"
      }
    },
    {
      "cell_type": "code",
      "source": [
        "square = lambda x: x * x\n",
        "print(square(5))  # Output: 25\n"
      ],
      "metadata": {
        "colab": {
          "base_uri": "https://localhost:8080/"
        },
        "id": "hy-ZNlhbMQZo",
        "outputId": "10d76212-28f9-4068-fa67-73dec647264f"
      },
      "execution_count": 11,
      "outputs": [
        {
          "output_type": "stream",
          "name": "stdout",
          "text": [
            "25\n"
          ]
        }
      ]
    },
    {
      "cell_type": "markdown",
      "source": [
        "Explain the purpose and usage of the `map()` function in Python\n",
        "\n",
        "ANS- Applies a given function to all items in an iterable and returns a map object.\n",
        "\n"
      ],
      "metadata": {
        "id": "x020hYSxMUtD"
      }
    },
    {
      "cell_type": "code",
      "source": [
        "nums = [1, 2, 3]\n",
        "squares = map(lambda x: x * x, nums)\n",
        "print(list(squares))  # Output: [1, 4, 9]\n"
      ],
      "metadata": {
        "colab": {
          "base_uri": "https://localhost:8080/"
        },
        "id": "N1GuAO-HMlzE",
        "outputId": "37e03cfa-8d46-4184-ebda-f9d6a46d1c6d"
      },
      "execution_count": 12,
      "outputs": [
        {
          "output_type": "stream",
          "name": "stdout",
          "text": [
            "[1, 4, 9]\n"
          ]
        }
      ]
    },
    {
      "cell_type": "markdown",
      "source": [
        "What is the difference between `map()`, `reduce()`, and `filter()` functions in Python?\n",
        "\n",
        "ANS- Difference Between map(), reduce(), and filter()\n",
        "map(): Applies a function to every item in an iterable.\n",
        "Example: map(lambda x: x**2, [1, 2, 3])\n",
        "filter(): Filters items based on a function that returns True or False.\n",
        "Example: filter(lambda x: x > 2, [1, 2, 3])\n",
        "reduce(): Aggregates items in an iterable into a single value using a function.\n"
      ],
      "metadata": {
        "id": "Pta4n1hwMqXk"
      }
    },
    {
      "cell_type": "code",
      "source": [
        "from functools import reduce\n",
        "reduce(lambda x, y: x + y, [1, 2, 3])  # Output: 6\n"
      ],
      "metadata": {
        "colab": {
          "base_uri": "https://localhost:8080/"
        },
        "id": "WvIUPHLwNDWf",
        "outputId": "054e647e-b2b0-449c-aa9e-2ad1486ee6fe"
      },
      "execution_count": 13,
      "outputs": [
        {
          "output_type": "execute_result",
          "data": {
            "text/plain": [
              "6"
            ]
          },
          "metadata": {},
          "execution_count": 13
        }
      ]
    },
    {
      "cell_type": "markdown",
      "source": [
        "# **PRACTICAL** **QUESTIONS**\n",
        "\n"
      ],
      "metadata": {
        "id": "Af4SU-ZtNKRc"
      }
    },
    {
      "cell_type": "markdown",
      "source": [
        "1-Write a Python function that takes a list of numbers as input and returns the sum of all even numbers in\n",
        "the list.\n",
        "\n",
        "2. Create a Python function that accepts a string and returns the reverse of that string."
      ],
      "metadata": {
        "id": "dFfvrcroNlIJ"
      }
    },
    {
      "cell_type": "code",
      "source": [
        "def sum_even_numbers(numbers):\n",
        "    return sum(num for num in numbers if num % 2 == 0)\n",
        "\n",
        "# Example usage\n",
        "print(sum_even_numbers([1, 2, 3, 4, 5, 6]))  # Output: 12\n"
      ],
      "metadata": {
        "colab": {
          "base_uri": "https://localhost:8080/"
        },
        "id": "iQgkH6BCNxC3",
        "outputId": "cce9fdec-0e33-4c65-9f10-30394e1d0e4d"
      },
      "execution_count": 14,
      "outputs": [
        {
          "output_type": "stream",
          "name": "stdout",
          "text": [
            "12\n"
          ]
        }
      ]
    },
    {
      "cell_type": "code",
      "source": [
        "def reverse_string(s):\n",
        "    return s[::-1]\n",
        "\n",
        "# Example usage\n",
        "print(reverse_string(\"hello\"))  # Output: \"olleh\"\n"
      ],
      "metadata": {
        "colab": {
          "base_uri": "https://localhost:8080/"
        },
        "id": "manPyjKrN11w",
        "outputId": "0fb5fa6a-5cb9-4dae-a6d9-5b4765a7bf12"
      },
      "execution_count": 15,
      "outputs": [
        {
          "output_type": "stream",
          "name": "stdout",
          "text": [
            "olleh\n"
          ]
        }
      ]
    },
    {
      "cell_type": "markdown",
      "source": [
        "Implement a Python function that takes a list of integers and returns a new list containing the squares of\n",
        "each number."
      ],
      "metadata": {
        "id": "dsQ8GUMaN5rN"
      }
    },
    {
      "cell_type": "code",
      "source": [
        "def square_numbers(numbers):\n",
        "    return [num ** 2 for num in numbers]\n",
        "\n",
        "# Example usage\n",
        "print(square_numbers([1, 2, 3, 4]))  # Output: [1, 4, 9, 16]\n"
      ],
      "metadata": {
        "colab": {
          "base_uri": "https://localhost:8080/"
        },
        "id": "mhKHX5_6N8wj",
        "outputId": "fd617cae-61bb-4cfb-8748-5307a6bc17d0"
      },
      "execution_count": 16,
      "outputs": [
        {
          "output_type": "stream",
          "name": "stdout",
          "text": [
            "[1, 4, 9, 16]\n"
          ]
        }
      ]
    },
    {
      "cell_type": "markdown",
      "source": [
        "Write a Python function that checks if a given number is prime or not from 1 to 200."
      ],
      "metadata": {
        "id": "pkq80GkDOB2Z"
      }
    },
    {
      "cell_type": "code",
      "source": [
        "def is_prime(num):\n",
        "    if num < 2:\n",
        "        return False\n",
        "    for i in range(2, int(num ** 0.5) + 1):\n",
        "        if num % i == 0:\n",
        "            return False\n",
        "    return True\n",
        "\n",
        "# Check primes from 1 to 200\n",
        "primes = [n for n in range(1, 201) if is_prime(n)]\n",
        "print(primes)\n"
      ],
      "metadata": {
        "colab": {
          "base_uri": "https://localhost:8080/"
        },
        "id": "jvZDvVN3OHd2",
        "outputId": "344a26a3-bfbf-43f9-94a8-51f9ffd8e8f7"
      },
      "execution_count": 17,
      "outputs": [
        {
          "output_type": "stream",
          "name": "stdout",
          "text": [
            "[2, 3, 5, 7, 11, 13, 17, 19, 23, 29, 31, 37, 41, 43, 47, 53, 59, 61, 67, 71, 73, 79, 83, 89, 97, 101, 103, 107, 109, 113, 127, 131, 137, 139, 149, 151, 157, 163, 167, 173, 179, 181, 191, 193, 197, 199]\n"
          ]
        }
      ]
    },
    {
      "cell_type": "markdown",
      "source": [
        " Create an iterator class in Python that generates the Fibonacci sequence up to a specified number of\n",
        "terms."
      ],
      "metadata": {
        "id": "ZgQ7j7SpOLU7"
      }
    },
    {
      "cell_type": "code",
      "source": [
        "class Fibonacci:\n",
        "    def __init__(self, n_terms):\n",
        "        self.n_terms = n_terms\n",
        "        self.count = 0\n",
        "        self.a, self.b = 0, 1\n",
        "\n",
        "    def __iter__(self):\n",
        "        return self\n",
        "\n",
        "    def __next__(self):\n",
        "        if self.count >= self.n_terms:\n",
        "            raise StopIteration\n",
        "        self.count += 1\n",
        "        result = self.a\n",
        "        self.a, self.b = self.b, self.a + self.b\n",
        "        return result\n",
        "\n",
        "# Example usage\n",
        "fib = Fibonacci(10)\n",
        "print(list(fib))  # Output: First 10 Fibonacci numbers\n"
      ],
      "metadata": {
        "colab": {
          "base_uri": "https://localhost:8080/"
        },
        "id": "dWO6ocxlOO6C",
        "outputId": "be6bb586-b2a6-4fad-cf2e-4d3a28cd6040"
      },
      "execution_count": 18,
      "outputs": [
        {
          "output_type": "stream",
          "name": "stdout",
          "text": [
            "[0, 1, 1, 2, 3, 5, 8, 13, 21, 34]\n"
          ]
        }
      ]
    },
    {
      "cell_type": "markdown",
      "source": [
        "Write a generator function in Python that yields the powers of 2 up to a given exponent."
      ],
      "metadata": {
        "id": "awd1y8l7OaVo"
      }
    },
    {
      "cell_type": "code",
      "source": [
        "def powers_of_two(max_exponent):\n",
        "    for i in range(max_exponent + 1):\n",
        "        yield 2 ** i\n",
        "\n",
        "# Example usage\n",
        "for power in powers_of_two(5):\n",
        "    print(power)  # Output: 1, 2, 4, 8, 16, 32\n"
      ],
      "metadata": {
        "colab": {
          "base_uri": "https://localhost:8080/"
        },
        "id": "ih9jTpiqO9qA",
        "outputId": "6f0ca973-ef1a-48a4-edb9-f62b4c942c2c"
      },
      "execution_count": 19,
      "outputs": [
        {
          "output_type": "stream",
          "name": "stdout",
          "text": [
            "1\n",
            "2\n",
            "4\n",
            "8\n",
            "16\n",
            "32\n"
          ]
        }
      ]
    },
    {
      "cell_type": "markdown",
      "source": [
        " Implement a generator function that reads a file line by line and yields each line as a string."
      ],
      "metadata": {
        "id": "je1LHXdoPB5Z"
      }
    },
    {
      "cell_type": "code",
      "source": [
        "def read_file_line_by_line(filepath):\n",
        "    with open(filepath, 'r') as file:\n",
        "        for line in file:\n",
        "            yield line.strip()\n",
        "\n",
        "# Example usage\n",
        "# for line in read_file_line_by_line(\"example.txt\"):\n",
        "#     print(line)\n"
      ],
      "metadata": {
        "id": "q2DOFsJdPGtb"
      },
      "execution_count": 22,
      "outputs": []
    },
    {
      "cell_type": "markdown",
      "source": [
        "Use a lambda function in Python to sort a list of tuples based on the second element of each tuple."
      ],
      "metadata": {
        "id": "hJ6BqU8_PJ3o"
      }
    },
    {
      "cell_type": "code",
      "source": [
        "tuples = [(1, 'b'), (3, 'a'), (2, 'c')]\n",
        "sorted_tuples = sorted(tuples, key=lambda x: x[1])\n",
        "print(sorted_tuples)  # Output: [(3, 'a'), (1, 'b'), (2, 'c')]\n"
      ],
      "metadata": {
        "colab": {
          "base_uri": "https://localhost:8080/"
        },
        "id": "GMTSIz86PNYq",
        "outputId": "bdcf60db-b21b-4407-a2ff-eff91b67b8c5"
      },
      "execution_count": 21,
      "outputs": [
        {
          "output_type": "stream",
          "name": "stdout",
          "text": [
            "[(3, 'a'), (1, 'b'), (2, 'c')]\n"
          ]
        }
      ]
    },
    {
      "cell_type": "markdown",
      "source": [
        "9.Write a Python program that uses `map()` to convert a list of temperatures from Celsius to Fahrenheit.\n",
        "\n",
        "10. Create a Python program that uses `filter()` to remove all the vowels from a given string."
      ],
      "metadata": {
        "id": "874Xzfj7PkkN"
      }
    },
    {
      "cell_type": "code",
      "source": [
        "celsius = [0, 20, 37, 100]\n",
        "fahrenheit = list(map(lambda c: (c * 9/5) + 32, celsius))\n",
        "print(fahrenheit)  # Output: [32.0, 68.0, 98.6, 212.0]\n"
      ],
      "metadata": {
        "colab": {
          "base_uri": "https://localhost:8080/"
        },
        "id": "ZlTUIJmSPoHT",
        "outputId": "cb7f2ccb-08b5-4f58-ad68-ebec02190a91"
      },
      "execution_count": 23,
      "outputs": [
        {
          "output_type": "stream",
          "name": "stdout",
          "text": [
            "[32.0, 68.0, 98.6, 212.0]\n"
          ]
        }
      ]
    },
    {
      "cell_type": "code",
      "source": [
        "def remove_vowels(s):\n",
        "    vowels = \"aeiouAEIOU\"\n",
        "    return ''.join(filter(lambda char: char not in vowels, s))\n",
        "\n",
        "# Example usage\n",
        "print(remove_vowels(\"Hello World\"))  # Output: \"Hll Wrld\"\n"
      ],
      "metadata": {
        "colab": {
          "base_uri": "https://localhost:8080/"
        },
        "id": "dCDOoc6XPsMT",
        "outputId": "4be67c3f-ffc6-46bd-d1e6-26c7a2680a77"
      },
      "execution_count": 24,
      "outputs": [
        {
          "output_type": "stream",
          "name": "stdout",
          "text": [
            "Hll Wrld\n"
          ]
        }
      ]
    },
    {
      "cell_type": "markdown",
      "source": [
        "Python program that uses lambda and map to solve the problem described in the screenshot"
      ],
      "metadata": {
        "id": "O7mjF585PyA6"
      }
    },
    {
      "cell_type": "code",
      "source": [
        "# Input data\n",
        "orders = [\n",
        "    [34587, \"Learning Python, Mark Lutz\", 4, 40.95],\n",
        "    [98762, \"Programming Python, Mark Lutz\", 5, 56.80],\n",
        "    [77226, \"Head First Python, Paul Barry\", 3, 32.95],\n",
        "    [88112, \"Einführung in Python3, Bernd Klein\", 3, 24.99],\n",
        "]\n",
        "\n",
        "# Using lambda and map\n",
        "result = list(map(\n",
        "    lambda order: (\n",
        "        order[0],  # Order number\n",
        "        round(order[2] * order[3] + (10 if order[2] * order[3] < 100 else 0), 2)  # Total cost\n",
        "    ),\n",
        "    orders\n",
        "))\n",
        "\n",
        "# Output the result\n",
        "print(result)\n"
      ],
      "metadata": {
        "colab": {
          "base_uri": "https://localhost:8080/"
        },
        "id": "kMkft4gQQYxx",
        "outputId": "8e80e5c0-bac1-4082-ba37-060e1c127117"
      },
      "execution_count": 25,
      "outputs": [
        {
          "output_type": "stream",
          "name": "stdout",
          "text": [
            "[(34587, 163.8), (98762, 284.0), (77226, 108.85), (88112, 84.97)]\n"
          ]
        }
      ]
    },
    {
      "cell_type": "markdown",
      "source": [
        "Explanation\n",
        "Input Data:\n",
        "\n",
        "The list orders contains sublists with the structure: [Order Number, Book Title, Quantity, Price per Item].\n",
        "Logic:\n",
        "\n",
        "Use map to iterate over each order.\n",
        "For each order, calculate the total price (quantity * price per item).\n",
        "If the total is less than 100, add 10 to the total.\n",
        "Each tuple contains the order number and the (possibly adjusted) total.\n",
        "Output: The output is a list of tuples where each tuple contains:\n",
        "\n",
        "The order number.\n",
        "The adjusted total price, rounded to 2 decimal places."
      ],
      "metadata": {
        "id": "Jlyp0WZAQdDi"
      }
    },
    {
      "cell_type": "code",
      "source": [
        "[\n",
        "    (34587, 163.8),\n",
        "    (98762, 284.0),\n",
        "    (77226, 108.85),\n",
        "    (88112, 84.97)\n",
        "]\n"
      ],
      "metadata": {
        "colab": {
          "base_uri": "https://localhost:8080/"
        },
        "id": "830W-rwdQjIU",
        "outputId": "21021c5b-7f69-471c-feef-14c04330282d"
      },
      "execution_count": 26,
      "outputs": [
        {
          "output_type": "execute_result",
          "data": {
            "text/plain": [
              "[(34587, 163.8), (98762, 284.0), (77226, 108.85), (88112, 84.97)]"
            ]
          },
          "metadata": {},
          "execution_count": 26
        }
      ]
    }
  ]
}